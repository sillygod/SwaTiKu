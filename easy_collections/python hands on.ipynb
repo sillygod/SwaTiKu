{
 "cells": [
  {
   "cell_type": "markdown",
   "metadata": {},
   "source": [
    "# Python Hands on problem\n",
    "\n",
    "主要是把udemy[python-handon](https://www.udemy.com/python-handon/)這堂課上過，這邊會實作一些有趣或是稍微有難度的題目，太過easy的話就會跳過去～"
   ]
  },
  {
   "cell_type": "code",
   "execution_count": 1,
   "metadata": {},
   "outputs": [
    {
     "name": "stdout",
     "output_type": "stream",
     "text": [
      "True\n",
      "True\n",
      "False\n"
     ]
    }
   ],
   "source": [
    "# Subset Check -- checkSub(a, b)  \n",
    "# a = [1,2,3], b = [1,2]\n",
    "# checkSub(a, b) -> True\n",
    "\n",
    "def checkSub(a, b):\n",
    "    if len(a) < len(b):\n",
    "        return False\n",
    "    \n",
    "    if len(b) == 0:\n",
    "        return True\n",
    "    \n",
    "    for ka, va in enumerate(a):\n",
    "        if va == b[0]:\n",
    "            if a[ka:ka+len(b)] == b:\n",
    "                return True\n",
    "            \n",
    "    return False\n",
    "                \n",
    "    \n",
    "print(checkSub([1,2,3,1,3,5], [1,2,3]))\n",
    "print(checkSub([1,2,3,1,3,5], [1,3,5]))\n",
    "print(checkSub([1,2,3,1,3,5], [1,5]))"
   ]
  },
  {
   "cell_type": "code",
   "execution_count": 2,
   "metadata": {},
   "outputs": [
    {
     "name": "stdout",
     "output_type": "stream",
     "text": [
      "[1, 5]\n"
     ]
    }
   ],
   "source": [
    "# 關於一些集合的東西，python 是可以作弊拉 好用的 set\n",
    "a = set([1,2,4,5])\n",
    "b = set([2,4])\n",
    "\n",
    "print(list(a-b))"
   ]
  },
  {
   "cell_type": "code",
   "execution_count": 3,
   "metadata": {},
   "outputs": [
    {
     "name": "stdout",
     "output_type": "stream",
     "text": [
      "*\n",
      "**\n",
      "***\n",
      "****\n",
      "*****\n",
      "****\n",
      "***\n",
      "**\n",
      "*\n"
     ]
    }
   ],
   "source": [
    "class Echo:\n",
    "    \n",
    "    def __init__(self, times):\n",
    "        self.times = times\n",
    "    \n",
    "    def __enter__(self):\n",
    "        print('*'*self.times)\n",
    "        \n",
    "    def __exit__(self, *exc):\n",
    "        print('*'*self.times)\n",
    "    \n",
    "    def __call__(self):\n",
    "        print('*'*self.times)\n",
    "        \n",
    "def recur(times:int, maximum:int):\n",
    "    if times == maximum:\n",
    "        Echo(times)()\n",
    "    else:\n",
    "        with Echo(times):\n",
    "            recur(times+1, maximum)\n",
    "            \n",
    "# recur(1, 5)\n",
    "\n",
    "# ok, write a non python trics way\n",
    "\n",
    "def echo_inc(start:int, end:int):\n",
    "    print(\"*\"*start)\n",
    "    if start != end:\n",
    "        echo_inc(start+1, end)\n",
    "        echo_inc(start, start)\n",
    "        \n",
    "echo_inc(1, 5)"
   ]
  },
  {
   "cell_type": "code",
   "execution_count": 4,
   "metadata": {},
   "outputs": [
    {
     "name": "stdout",
     "output_type": "stream",
     "text": [
      "Frequency of the elements in the List :  Counter({10: 4, 20: 4, 40: 2, 50: 2, 30: 1})\n"
     ]
    }
   ],
   "source": [
    "# ok,.. the collection module in python are beauty.. for example\n",
    "\n",
    "import collections\n",
    "my_list = [10,10,10,10,20,20,20,20,40,40,50,50,30]\n",
    "\n",
    "ctr = collections.Counter(my_list)\n",
    "print(\"Frequency of the elements in the List : \",ctr)"
   ]
  },
  {
   "cell_type": "code",
   "execution_count": 5,
   "metadata": {},
   "outputs": [
    {
     "name": "stdout",
     "output_type": "stream",
     "text": [
      "123\n",
      "132\n",
      "213\n",
      "231\n",
      "312\n",
      "321\n"
     ]
    }
   ],
   "source": [
    "# how to write a permutation\n",
    "# ex. input [1,2,3]\n",
    "# output [1,2,3], [1,3,2], [2, 1, 3], [2, 3, 1], [3, 1, 2], [3, 2, 1]\n",
    "\n",
    "# 一個還滿直覺的permutation~\n",
    "def all_perms(str):\n",
    "    if len(str) <=1:\n",
    "        yield str\n",
    "    else:\n",
    "        for i in range(len(str)):\n",
    "            for p in all_perms(str[:i]+str[i+1:]):\n",
    "                yield str[i] + p\n",
    "                \n",
    "for i in all_perms(\"123\"):\n",
    "    print(i)"
   ]
  },
  {
   "cell_type": "code",
   "execution_count": 6,
   "metadata": {},
   "outputs": [
    {
     "name": "stdout",
     "output_type": "stream",
     "text": [
      "1\n",
      "(1, 6)\n"
     ]
    }
   ],
   "source": [
    "# find second smallest\n",
    "\n",
    "def find_smallest(lst):\n",
    "    # base\n",
    "    if len(lst) == 1:\n",
    "        return lst[0]\n",
    "    else:\n",
    "        small = find_smallest(lst[1:])\n",
    "        return lst[0] if lst[0] < small else small\n",
    "    \n",
    "def find_second_smallest_x(lst):\n",
    "    if len(lst) == 2:\n",
    "        if lst[0] < lst[1]:\n",
    "            return lst[0], lst[1]\n",
    "        else:\n",
    "            return lst[1], lst[0]\n",
    "    else:\n",
    "        a, b = find_second_smallest_x(lst[1:])\n",
    "        if lst[0] <= a:\n",
    "            a, b = lst[0], a\n",
    "        elif lst[0] < b:\n",
    "            b = lst[0]\n",
    "        return a, b\n",
    "# how about add key for the finder? give it more flexible    \n",
    "\n",
    "def find_second_smallest(lst):\n",
    "    a, b = 999999999, 99999999\n",
    "    for num in lst:\n",
    "        if num <= a:\n",
    "            a, b = num, a\n",
    "        elif num < b:\n",
    "            b = num\n",
    "    return b\n",
    "\n",
    "print(find_smallest([1,50,6,20]))\n",
    "print(find_second_smallest_x([1,50,6,20]))\n"
   ]
  },
  {
   "cell_type": "code",
   "execution_count": 7,
   "metadata": {},
   "outputs": [
    {
     "data": {
      "text/plain": [
       "True"
      ]
     },
     "execution_count": 7,
     "metadata": {},
     "output_type": "execute_result"
    }
   ],
   "source": [
    "def checkParenthese(data):\n",
    "    paren = {\n",
    "        '(' : ')',\n",
    "        '{' : '}',\n",
    "        '[' : ']'\n",
    "    }\n",
    "    stack = []\n",
    "    \n",
    "    for ch in data:\n",
    "        if ch in paren.keys():\n",
    "            stack.append(ch)\n",
    "        elif ch in paren.values():\n",
    "            p = stack.pop()\n",
    "            if paren[p] != ch:\n",
    "                return False\n",
    "    \n",
    "    return len(stack) == 0\n",
    "\n",
    "checkParenthese(\"({})\")"
   ]
  },
  {
   "cell_type": "code",
   "execution_count": 8,
   "metadata": {},
   "outputs": [
    {
     "name": "stdout",
     "output_type": "stream",
     "text": [
      "1300\n",
      "3986\n"
     ]
    }
   ],
   "source": [
    "# https://en.wikipedia.org/wiki/Roman_numerals\n",
    "# roman number to integer\n",
    "# Intestring! I never to study about roman number hahaha...\n",
    "# I, V, X, L, C, D, M => 1, 5, 10, 50, 100, 500, 1000\n",
    "# rule is simple\n",
    "# II => 2 III=>3 IIII = IX => 4\n",
    "# right is plus, left is sub\n",
    "# note. roman number is descending order\n",
    "\n",
    "def roman_to_int(roman_number):\n",
    "    roman_mapping = {'I': 1, 'V': 5, 'X':10, 'L':50, 'C': 100, 'D': 500, 'M': 1000}\n",
    "    value = 0\n",
    "    before = 0\n",
    "    for index, num in enumerate(roman_number):\n",
    "        if roman_mapping[num] > before and before != 0:\n",
    "            value = value + roman_mapping[num] - 2*before\n",
    "        else:\n",
    "            value += roman_mapping[num]\n",
    "        before = roman_mapping[num]\n",
    "    return value\n",
    "\n",
    "print(roman_to_int(\"MCCC\"))\n",
    "print(roman_to_int(\"MMMCMLXXXVI\"))\n",
    "\n",
    "def int_to_roman(number):\n",
    "    # here, we only consider 1~3000 the standard format of roman number\n",
    "    pass"
   ]
  },
  {
   "cell_type": "code",
   "execution_count": 9,
   "metadata": {},
   "outputs": [],
   "source": [
    "#Write a Python program to find the three elements that sum to zero from a set (array) of n real numbers.\n",
    "# Input\n",
    "# [-25, -10, -7, -3, 2, 4, 8, 10]\n",
    "# Output\n",
    "# [[-10, 2, 8], [-7, -3, 10]]\n",
    "# 這個還真的有點不知道有什麼好方法！\n",
    "# 目前感覺可能要用 dynamic programming的方式"
   ]
  },
  {
   "cell_type": "code",
   "execution_count": 10,
   "metadata": {},
   "outputs": [
    {
     "name": "stdout",
     "output_type": "stream",
     "text": [
      "False\n",
      "True\n",
      "True\n"
     ]
    },
    {
     "data": {
      "text/plain": [
       "365"
      ]
     },
     "execution_count": 10,
     "metadata": {},
     "output_type": "execute_result"
    }
   ],
   "source": [
    "# leap year\n",
    "# the correct days of year is 365 + 1/4 - 1/100 + 1/400\n",
    "# 這種算法仍然會有誤差，但是要幾千年才會有誤差算是目前最準的\n",
    "\n",
    "def isLeap(year):\n",
    "    return year % 4 == 0 and year % 100 !=0 or year % 400 == 0 \n",
    "\n",
    "print(isLeap(2200))\n",
    "print(isLeap(2004))\n",
    "print(isLeap(2020))\n",
    "\n",
    "def yearOfDays(year):\n",
    "    if isLeap(year):\n",
    "        return 366\n",
    "    else:\n",
    "        return 365\n",
    "    \n",
    "import datetime\n",
    "\n",
    "year = datetime.datetime.now().year\n",
    "\n",
    "yearOfDays(year)\n",
    "\n",
    "# https://docs.python.org/3/library/datetime.html#strftime-and-strptime-behavior\n",
    "# the datetime format of python use the C standard. "
   ]
  },
  {
   "cell_type": "code",
   "execution_count": 11,
   "metadata": {},
   "outputs": [
    {
     "name": "stdout",
     "output_type": "stream",
     "text": [
      "os.stat_result(st_mode=33188, st_ino=8593705710, st_dev=16777220, st_nlink=1, st_uid=501, st_gid=20, st_size=763, st_atime=1524146408, st_mtime=1524031455, st_ctime=1524031611)\n",
      "763\n",
      "languages such as C++ or Java. \n",
      "\n",
      "[1, 5, 4, 6, 8, 9, 2, 7, 0, 3]\n",
      "127.1.1.1\n"
     ]
    }
   ],
   "source": [
    "import os\n",
    "\n",
    "size = os.path.getsize('./test.txt')\n",
    "stat = os.stat('./test.txt')\n",
    "print(stat)\n",
    "# try to compare file read\n",
    "\n",
    "with open('./test.txt', 'r') as file:\n",
    "    print(len(file.read())) # this also works..\n",
    "    \n",
    "\n",
    "import random\n",
    "with open('./test.txt', 'r') as file:\n",
    "    line = random.choice(file.readlines())\n",
    "    print(line)\n",
    "\n",
    "lst = [i for i in range(10)]\n",
    "random.shuffle(lst)\n",
    "print(lst)\n",
    "\n",
    "\n",
    "import re\n",
    "\n",
    "ip = \"127.01.01.1\" # use re to remove leading zero\n",
    "re_remove_leading_zero = re.compile('\\.[0]*')\n",
    "print(re_remove_leading_zero.sub('.', ip))"
   ]
  },
  {
   "cell_type": "markdown",
   "metadata": {},
   "source": [
    "上面是課程的part one，算是屬於python的內建模組的測試題～ 一般就是上網查查文檔就知道怎麼弄了。 後面第二部分就比較偏向演算法的地方了！！"
   ]
  },
  {
   "cell_type": "code",
   "execution_count": 12,
   "metadata": {},
   "outputs": [
    {
     "name": "stdout",
     "output_type": "stream",
     "text": [
      "start is 3\n",
      "[4, 5, 1, 2, 3]\n",
      "start is 2\n",
      "[5, 6, 7, 1, 3]\n"
     ]
    }
   ],
   "source": [
    "# longest non repeat algorithm\n",
    "# abcbb -> abc\n",
    "# ababcde -> abcde\n",
    "\n",
    "def longest_non_repeat(str):\n",
    "    pre_sub, sub = [], []\n",
    "    \n",
    "    for ch in str:\n",
    "        if ch not in sub:\n",
    "            sub.append(ch)\n",
    "        else:\n",
    "            if len(sub) > len(pre_sub):\n",
    "                pre_sub, sub = sub, [ch]\n",
    "                \n",
    "    return pre_sub if len(pre_sub) > len(sub) else sub\n",
    "\n",
    "longest_non_repeat('ababcde')\n",
    "            \n",
    "\n",
    "def array_rotate(ary, k):\n",
    "    # [1,2,3,4,5], k = 2 => [4,5,1,2,3]\n",
    "    length = len(ary)\n",
    "    if k >= length:\n",
    "        k = k % length\n",
    "        \n",
    "    start = length - k\n",
    "    print(f'start is {start}')\n",
    "    return ary[start:] + ary[:start]\n",
    "\n",
    "print(array_rotate([1,2,3,4,5], 2))\n",
    "print(array_rotate([1,3,5,6,7], 3))"
   ]
  },
  {
   "cell_type": "markdown",
   "metadata": {},
   "source": [
    "# sort\n",
    "\n",
    "## stable sort vs unstable sort\n",
    "\n",
    "就是當資料裡面若有相同值，但是經過sort後，他們倆的順序有被前後對調的話，那麼就是unstable，反之就是stable。\n",
    "ex.\n",
    "\n",
    "```py\n",
    "a = [2, 3^2, 3^1, 5, 4]  # 3^1, 3^2 只是用來表明兩個是不一樣的3而已\n",
    "# after sort\n",
    "a = [2, 3^1, 3^2, 4, 5] # 那麼這樣的sort就是unstable sort\n",
    "```"
   ]
  },
  {
   "cell_type": "code",
   "execution_count": 13,
   "metadata": {},
   "outputs": [
    {
     "name": "stdout",
     "output_type": "stream",
     "text": [
      "[2, 3, 5, 7, 10]\n",
      "[2, 3, 5, 10, 20]\n"
     ]
    }
   ],
   "source": [
    "# sort section\n",
    "# https://www.geeksforgeeks.org/insertion-sort/ 還不錯的教學網站\n",
    "# selection sort.. \n",
    "    \n",
    "def selection_sort(ary):\n",
    "    for i, v in enumerate(ary):\n",
    "        min_index = i\n",
    "        # find minumum\n",
    "        for j in range(i+1, len(ary)):\n",
    "            if ary[j] < v:\n",
    "                min_index = j\n",
    "        # do swap\n",
    "        ary[i], ary[min_index] = ary[min_index], ary[i]\n",
    "        \n",
    "a = [2,5,3,7,10]\n",
    "selection_sort(a)\n",
    "print(a)\n",
    "\n",
    "# 試著想想玩撲克牌你怎麼做動作的\n",
    "# 從第二張牌開始跟前面的牌比大小，若有小於的話就會進行插入動作 \n",
    "# 所以每次與前面的比較都會發現前面都是有排序過的\n",
    "\n",
    "# two action: pick and move\n",
    "def insertion_sort(ary):\n",
    "    for index in range(1, len(ary)):\n",
    "        pick = ary[index]\n",
    "        \n",
    "        # compre and move card\n",
    "        for j in range(index-1, -1, -1):\n",
    "            if pick < ary[j]:\n",
    "                ary[j+1] = ary[j]\n",
    "            else:\n",
    "                ary[j+1] = pick\n",
    "                break\n",
    "        else:\n",
    "            ary[j] = pick\n",
    "        \n",
    "a = [3, 10, 2, 5, 20]\n",
    "insertion_sort(a)\n",
    "print(a)\n",
    "        "
   ]
  },
  {
   "cell_type": "code",
   "execution_count": 14,
   "metadata": {},
   "outputs": [
    {
     "name": "stdout",
     "output_type": "stream",
     "text": [
      "[1, 2, 3, 5, 6]\n"
     ]
    }
   ],
   "source": [
    "# shell sort\n",
    "# shell sort 是改良 insertion sort來的\n",
    "# 其中insertion sort的move過程是一張一張一動，在shell sort這邊呢，是改由他所謂的gap來移動的\n",
    "\n",
    "def shell_sort(ary):\n",
    "    length = len(ary)\n",
    "    gap = length//2\n",
    "    \n",
    "    while gap > 0:\n",
    "        \n",
    "        for index in range(gap, length):\n",
    "            pick = ary[index]\n",
    "            \n",
    "            for j in range(index-gap, -1, -gap): #這邊可能改成用while會比較好看?\n",
    "                if pick < ary[j]:\n",
    "                    ary[j+gap] = ary[j]\n",
    "                else:\n",
    "                    ary[j+gap] = pick\n",
    "                    break\n",
    "            else:\n",
    "                ary[j] = pick\n",
    "        \n",
    "        gap = gap//2\n",
    "        \n",
    "a = [5,1,6,3,2]\n",
    "shell_sort(a)\n",
    "print(a)\n",
    "                "
   ]
  },
  {
   "cell_type": "code",
   "execution_count": 15,
   "metadata": {},
   "outputs": [
    {
     "name": "stdout",
     "output_type": "stream",
     "text": [
      "[1, 2, 2, 5, 6, 7, 9]\n"
     ]
    }
   ],
   "source": [
    "# merge sort\n",
    "# divide and conquer\n",
    "\n",
    "def merge(ary, start, end):\n",
    "    # how to merge..\n",
    "    mid = (start+end) // 2 + 1\n",
    "    left = ary[start:mid]\n",
    "    right = ary[mid:end+1]\n",
    "    \n",
    "    for i in range(start, end+1):\n",
    "        if len(left) != 0 and(len(right) == 0 or left[0] < right[0]):\n",
    "            ary[i] = left[0]\n",
    "            left = left[1:]\n",
    "        else:\n",
    "            ary[i] = right[0]\n",
    "            right = right[1:]\n",
    "\n",
    "def merge_sort(ary, start, end):\n",
    "    if start < end:\n",
    "        mid = (end+start) // 2\n",
    "        merge_sort(ary, start, mid)\n",
    "        merge_sort(ary, mid+1, end)\n",
    "        merge(ary, start, end)\n",
    "        \n",
    "        \n",
    "a = [2,5,1,2,7,9,6]\n",
    "merge_sort(a, 0, 6)\n",
    "print(a)"
   ]
  },
  {
   "cell_type": "code",
   "execution_count": 16,
   "metadata": {},
   "outputs": [],
   "source": [
    "# quick sort\n",
    "# non inplace version\n",
    "def quick_sort(ary):\n",
    "    if len(ary) <= 1:\n",
    "        return ary\n",
    "    \n",
    "    pivot = len(ary) // 2\n",
    "    small = [e for e in ary if e < ary[pivot]]\n",
    "    middle = [e for e in ary if e == ary[pivot]]\n",
    "    big = [e for e in ary if e > ary[pivot]]\n",
    "    \n",
    "    return quick_sort(small) + middle + quick_sort(big)       "
   ]
  },
  {
   "cell_type": "markdown",
   "metadata": {},
   "source": [
    "# search & recursion\n",
    "\n",
    "接著課程到了search的部分~~ 不過拉都是列出題目而已，沒啥教學，所以我把這個課程當作解解題目"
   ]
  },
  {
   "cell_type": "code",
   "execution_count": 21,
   "metadata": {},
   "outputs": [
    {
     "name": "stdout",
     "output_type": "stream",
     "text": [
      "(True, 7)\n"
     ]
    }
   ],
   "source": [
    "# binary search\n",
    "\n",
    "def binary_search(ary, item):\n",
    "    end = len(ary) -1\n",
    "    begin = 0\n",
    "    return _binary_search(ary, item, begin ,end)\n",
    "    \n",
    "def _binary_search(ary, item, begin, end):\n",
    "    mid = (begin+end) // 2\n",
    "    if item == ary[mid]:\n",
    "        return (True, mid)\n",
    "    elif item < ary[mid]:\n",
    "        return _binary_search(ary, item, begin, mid-1)\n",
    "    else:\n",
    "        return _binary_search(ary, item, mid+1, end)\n",
    "    return (False, -1)\n",
    "\n",
    "a = [1,2,3,4,5,6,7,8]\n",
    "\n",
    "print(binary_search(a, 8))"
   ]
  },
  {
   "cell_type": "code",
   "execution_count": 22,
   "metadata": {},
   "outputs": [],
   "source": [
    "# 切記遞迴都要想所謂的base case"
   ]
  },
  {
   "cell_type": "code",
   "execution_count": 45,
   "metadata": {},
   "outputs": [
    {
     "name": "stdout",
     "output_type": "stream",
     "text": [
      "5\n",
      "5\n"
     ]
    }
   ],
   "source": [
    "def fibonacci_rec(n):\n",
    "    if n == 1 or n == 2:\n",
    "        return 1\n",
    "    else:\n",
    "        return fibonacci_rec(n-1) + fibonacci_rec(n-2)\n",
    "\n",
    "def fibonacci(n):\n",
    "    a, b = 1, 1\n",
    "    for i in range(n):\n",
    "        yield a\n",
    "        a, b = b, a+b\n",
    "        \n",
    "print(fibonacci_rec(5))        \n",
    "\n",
    "print(list(fibonacci(5))[4])"
   ]
  },
  {
   "cell_type": "code",
   "execution_count": 46,
   "metadata": {},
   "outputs": [
    {
     "name": "stdout",
     "output_type": "stream",
     "text": [
      "6\n"
     ]
    }
   ],
   "source": [
    "def gcd(a, b):\n",
    "    if a%b == 0:\n",
    "        return b\n",
    "    else:\n",
    "        return gcd(b, a%b)\n",
    "    \n",
    "print(gcd(18, 12))"
   ]
  }
 ],
 "metadata": {
  "kernelspec": {
   "display_name": "Python 3",
   "language": "python",
   "name": "python3"
  },
  "language_info": {
   "codemirror_mode": {
    "name": "ipython",
    "version": 3
   },
   "file_extension": ".py",
   "mimetype": "text/x-python",
   "name": "python",
   "nbconvert_exporter": "python",
   "pygments_lexer": "ipython3",
   "version": "3.6.4"
  }
 },
 "nbformat": 4,
 "nbformat_minor": 2
}
